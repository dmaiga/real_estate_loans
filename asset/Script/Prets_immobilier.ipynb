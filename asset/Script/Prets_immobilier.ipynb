{
 "cells": [
  {
   "cell_type": "markdown",
   "id": "be4a118a-4778-4a14-8ce4-d57e164b7aee",
   "metadata": {},
   "source": [
    "                                           We are now going to work on our mortgage file..\r\n",
    "To quickly explain this file, each line corresponds to a loan granted to one of our customers. Each customer is identified b. his ID\n",
    " We have the following informatin\n",
    " n\n",
    " Tthe city and zip code of the branch where the customer took out the lo\n",
    "\n",
    "\n",
    "n Tthe customer's monthly income-Mmonthly repayments made by the customer-Dduration of loan, in month\n",
    "\n",
    "T -type of lo\n",
    "\n",
    "\n",
    "n Tthe interest rate\n",
    "\n",
    "Your role this time will be to modify this dataset to calculate the different variables needed to identify customers who are at the limit of their repayment capacity and determine the profits made by the bank.\n",
    "."
   ]
  },
  {
   "cell_type": "code",
   "execution_count": 1,
   "id": "7b84a6bd-af87-432f-aaf3-fb48147fe7aa",
   "metadata": {},
   "outputs": [],
   "source": [
    "import numpy as np\n",
    "import pandas as pd\n",
    "path=r'C:\\Users\\hp\\Desktop\\Data_analyst\\Python_Pandas\\P2C1_clients\\prets.csv'"
   ]
  },
  {
   "cell_type": "code",
   "execution_count": 2,
   "id": "bd1f3223-f4c7-4fac-a622-b67f67ae708c",
   "metadata": {},
   "outputs": [
    {
     "data": {
      "text/html": [
       "<div>\n",
       "<style scoped>\n",
       "    .dataframe tbody tr th:only-of-type {\n",
       "        vertical-align: middle;\n",
       "    }\n",
       "\n",
       "    .dataframe tbody tr th {\n",
       "        vertical-align: top;\n",
       "    }\n",
       "\n",
       "    .dataframe thead th {\n",
       "        text-align: right;\n",
       "    }\n",
       "</style>\n",
       "<table border=\"1\" class=\"dataframe\">\n",
       "  <thead>\n",
       "    <tr style=\"text-align: right;\">\n",
       "      <th></th>\n",
       "      <th>identifiant</th>\n",
       "      <th>ville</th>\n",
       "      <th>CP</th>\n",
       "      <th>revenu</th>\n",
       "      <th>remboursement</th>\n",
       "      <th>duree</th>\n",
       "      <th>type</th>\n",
       "      <th>taux</th>\n",
       "    </tr>\n",
       "  </thead>\n",
       "  <tbody>\n",
       "    <tr>\n",
       "      <th>0</th>\n",
       "      <td>0</td>\n",
       "      <td>TOULOUSE</td>\n",
       "      <td>31100</td>\n",
       "      <td>3669.0</td>\n",
       "      <td>1130.05</td>\n",
       "      <td>240</td>\n",
       "      <td>immobilier</td>\n",
       "      <td>1.168</td>\n",
       "    </tr>\n",
       "    <tr>\n",
       "      <th>1</th>\n",
       "      <td>1</td>\n",
       "      <td>PARIS</td>\n",
       "      <td>75009</td>\n",
       "      <td>5310.0</td>\n",
       "      <td>240.00</td>\n",
       "      <td>64</td>\n",
       "      <td>automobile</td>\n",
       "      <td>3.701</td>\n",
       "    </tr>\n",
       "    <tr>\n",
       "      <th>2</th>\n",
       "      <td>1</td>\n",
       "      <td>PARIS</td>\n",
       "      <td>75009</td>\n",
       "      <td>5310.0</td>\n",
       "      <td>1247.85</td>\n",
       "      <td>300</td>\n",
       "      <td>immobilier</td>\n",
       "      <td>1.173</td>\n",
       "    </tr>\n",
       "    <tr>\n",
       "      <th>3</th>\n",
       "      <td>2</td>\n",
       "      <td>MARSEILLE</td>\n",
       "      <td>13010</td>\n",
       "      <td>1873.0</td>\n",
       "      <td>552.54</td>\n",
       "      <td>240</td>\n",
       "      <td>immobilier</td>\n",
       "      <td>0.972</td>\n",
       "    </tr>\n",
       "    <tr>\n",
       "      <th>4</th>\n",
       "      <td>3</td>\n",
       "      <td>MARSEILLE</td>\n",
       "      <td>13010</td>\n",
       "      <td>1684.0</td>\n",
       "      <td>586.03</td>\n",
       "      <td>180</td>\n",
       "      <td>immobilier</td>\n",
       "      <td>1.014</td>\n",
       "    </tr>\n",
       "  </tbody>\n",
       "</table>\n",
       "</div>"
      ],
      "text/plain": [
       "   identifiant      ville     CP  revenu  remboursement  duree        type  \\\n",
       "0            0   TOULOUSE  31100  3669.0        1130.05    240  immobilier   \n",
       "1            1      PARIS  75009  5310.0         240.00     64  automobile   \n",
       "2            1      PARIS  75009  5310.0        1247.85    300  immobilier   \n",
       "3            2  MARSEILLE  13010  1873.0         552.54    240  immobilier   \n",
       "4            3  MARSEILLE  13010  1684.0         586.03    180  immobilier   \n",
       "\n",
       "    taux  \n",
       "0  1.168  \n",
       "1  3.701  \n",
       "2  1.173  \n",
       "3  0.972  \n",
       "4  1.014  "
      ]
     },
     "execution_count": 2,
     "metadata": {},
     "output_type": "execute_result"
    }
   ],
   "source": [
    "data=pd.read_csv(path)\n",
    "data.head()"
   ]
  },
  {
   "cell_type": "code",
   "execution_count": 3,
   "id": "dbd79a87-3715-4285-ba23-7278f8d8edc7",
   "metadata": {},
   "outputs": [
    {
     "data": {
      "text/html": [
       "<div>\n",
       "<style scoped>\n",
       "    .dataframe tbody tr th:only-of-type {\n",
       "        vertical-align: middle;\n",
       "    }\n",
       "\n",
       "    .dataframe tbody tr th {\n",
       "        vertical-align: top;\n",
       "    }\n",
       "\n",
       "    .dataframe thead th {\n",
       "        text-align: right;\n",
       "    }\n",
       "</style>\n",
       "<table border=\"1\" class=\"dataframe\">\n",
       "  <thead>\n",
       "    <tr style=\"text-align: right;\">\n",
       "      <th></th>\n",
       "      <th>identifiant</th>\n",
       "      <th>ville</th>\n",
       "      <th>CP</th>\n",
       "      <th>revenu</th>\n",
       "      <th>remboursement</th>\n",
       "      <th>duree</th>\n",
       "      <th>type</th>\n",
       "      <th>taux</th>\n",
       "      <th>taux_endettement</th>\n",
       "    </tr>\n",
       "  </thead>\n",
       "  <tbody>\n",
       "    <tr>\n",
       "      <th>0</th>\n",
       "      <td>0</td>\n",
       "      <td>TOULOUSE</td>\n",
       "      <td>31100</td>\n",
       "      <td>3669.0</td>\n",
       "      <td>1130.05</td>\n",
       "      <td>240</td>\n",
       "      <td>immobilier</td>\n",
       "      <td>1.168</td>\n",
       "      <td>30.80</td>\n",
       "    </tr>\n",
       "    <tr>\n",
       "      <th>1</th>\n",
       "      <td>1</td>\n",
       "      <td>PARIS</td>\n",
       "      <td>75009</td>\n",
       "      <td>5310.0</td>\n",
       "      <td>240.00</td>\n",
       "      <td>64</td>\n",
       "      <td>automobile</td>\n",
       "      <td>3.701</td>\n",
       "      <td>4.52</td>\n",
       "    </tr>\n",
       "    <tr>\n",
       "      <th>2</th>\n",
       "      <td>1</td>\n",
       "      <td>PARIS</td>\n",
       "      <td>75009</td>\n",
       "      <td>5310.0</td>\n",
       "      <td>1247.85</td>\n",
       "      <td>300</td>\n",
       "      <td>immobilier</td>\n",
       "      <td>1.173</td>\n",
       "      <td>23.50</td>\n",
       "    </tr>\n",
       "    <tr>\n",
       "      <th>3</th>\n",
       "      <td>2</td>\n",
       "      <td>MARSEILLE</td>\n",
       "      <td>13010</td>\n",
       "      <td>1873.0</td>\n",
       "      <td>552.54</td>\n",
       "      <td>240</td>\n",
       "      <td>immobilier</td>\n",
       "      <td>0.972</td>\n",
       "      <td>29.50</td>\n",
       "    </tr>\n",
       "    <tr>\n",
       "      <th>4</th>\n",
       "      <td>3</td>\n",
       "      <td>MARSEILLE</td>\n",
       "      <td>13010</td>\n",
       "      <td>1684.0</td>\n",
       "      <td>586.03</td>\n",
       "      <td>180</td>\n",
       "      <td>immobilier</td>\n",
       "      <td>1.014</td>\n",
       "      <td>34.80</td>\n",
       "    </tr>\n",
       "  </tbody>\n",
       "</table>\n",
       "</div>"
      ],
      "text/plain": [
       "   identifiant      ville     CP  revenu  remboursement  duree        type  \\\n",
       "0            0   TOULOUSE  31100  3669.0        1130.05    240  immobilier   \n",
       "1            1      PARIS  75009  5310.0         240.00     64  automobile   \n",
       "2            1      PARIS  75009  5310.0        1247.85    300  immobilier   \n",
       "3            2  MARSEILLE  13010  1873.0         552.54    240  immobilier   \n",
       "4            3  MARSEILLE  13010  1684.0         586.03    180  immobilier   \n",
       "\n",
       "    taux  taux_endettement  \n",
       "0  1.168             30.80  \n",
       "1  3.701              4.52  \n",
       "2  1.173             23.50  \n",
       "3  0.972             29.50  \n",
       "4  1.014             34.80  "
      ]
     },
     "execution_count": 3,
     "metadata": {},
     "output_type": "execute_result"
    }
   ],
   "source": [
    "#taux_endettement corresponds to the percentage of income repaid each month by an individual\n",
    "\n",
    "data['taux_endettement']=round((data['remboursement']*100/data['revenu']),2)\n",
    "data.head()\n"
   ]
  },
  {
   "cell_type": "code",
   "execution_count": 4,
   "id": "ece3cfab-b2a8-4600-a881-ae62b7a81ce5",
   "metadata": {},
   "outputs": [],
   "source": [
    "#taux to taut_interet to avoid confusion\n",
    "data.rename(columns={'taux':'taux_interet'}, inplace=True)\n"
   ]
  },
  {
   "cell_type": "code",
   "execution_count": 5,
   "id": "3145f635-fa67-4e73-ad62-61cdfc307003",
   "metadata": {},
   "outputs": [
    {
     "data": {
      "text/html": [
       "<div>\n",
       "<style scoped>\n",
       "    .dataframe tbody tr th:only-of-type {\n",
       "        vertical-align: middle;\n",
       "    }\n",
       "\n",
       "    .dataframe tbody tr th {\n",
       "        vertical-align: top;\n",
       "    }\n",
       "\n",
       "    .dataframe thead th {\n",
       "        text-align: right;\n",
       "    }\n",
       "</style>\n",
       "<table border=\"1\" class=\"dataframe\">\n",
       "  <thead>\n",
       "    <tr style=\"text-align: right;\">\n",
       "      <th></th>\n",
       "      <th>identifiant</th>\n",
       "      <th>ville</th>\n",
       "      <th>CP</th>\n",
       "      <th>revenu</th>\n",
       "      <th>remboursement</th>\n",
       "      <th>duree</th>\n",
       "      <th>type</th>\n",
       "      <th>taux_interet</th>\n",
       "      <th>taux_endettement</th>\n",
       "    </tr>\n",
       "  </thead>\n",
       "  <tbody>\n",
       "    <tr>\n",
       "      <th>0</th>\n",
       "      <td>0</td>\n",
       "      <td>TOULOUSE</td>\n",
       "      <td>31100</td>\n",
       "      <td>3669.0</td>\n",
       "      <td>1130.05</td>\n",
       "      <td>240</td>\n",
       "      <td>immobilier</td>\n",
       "      <td>1.168</td>\n",
       "      <td>30.80</td>\n",
       "    </tr>\n",
       "    <tr>\n",
       "      <th>1</th>\n",
       "      <td>1</td>\n",
       "      <td>PARIS</td>\n",
       "      <td>75009</td>\n",
       "      <td>5310.0</td>\n",
       "      <td>240.00</td>\n",
       "      <td>64</td>\n",
       "      <td>automobile</td>\n",
       "      <td>3.701</td>\n",
       "      <td>4.52</td>\n",
       "    </tr>\n",
       "    <tr>\n",
       "      <th>2</th>\n",
       "      <td>1</td>\n",
       "      <td>PARIS</td>\n",
       "      <td>75009</td>\n",
       "      <td>5310.0</td>\n",
       "      <td>1247.85</td>\n",
       "      <td>300</td>\n",
       "      <td>immobilier</td>\n",
       "      <td>1.173</td>\n",
       "      <td>23.50</td>\n",
       "    </tr>\n",
       "    <tr>\n",
       "      <th>3</th>\n",
       "      <td>2</td>\n",
       "      <td>MARSEILLE</td>\n",
       "      <td>13010</td>\n",
       "      <td>1873.0</td>\n",
       "      <td>552.54</td>\n",
       "      <td>240</td>\n",
       "      <td>immobilier</td>\n",
       "      <td>0.972</td>\n",
       "      <td>29.50</td>\n",
       "    </tr>\n",
       "    <tr>\n",
       "      <th>4</th>\n",
       "      <td>3</td>\n",
       "      <td>MARSEILLE</td>\n",
       "      <td>13010</td>\n",
       "      <td>1684.0</td>\n",
       "      <td>586.03</td>\n",
       "      <td>180</td>\n",
       "      <td>immobilier</td>\n",
       "      <td>1.014</td>\n",
       "      <td>34.80</td>\n",
       "    </tr>\n",
       "  </tbody>\n",
       "</table>\n",
       "</div>"
      ],
      "text/plain": [
       "   identifiant      ville     CP  revenu  remboursement  duree        type  \\\n",
       "0            0   TOULOUSE  31100  3669.0        1130.05    240  immobilier   \n",
       "1            1      PARIS  75009  5310.0         240.00     64  automobile   \n",
       "2            1      PARIS  75009  5310.0        1247.85    300  immobilier   \n",
       "3            2  MARSEILLE  13010  1873.0         552.54    240  immobilier   \n",
       "4            3  MARSEILLE  13010  1684.0         586.03    180  immobilier   \n",
       "\n",
       "   taux_interet  taux_endettement  \n",
       "0         1.168             30.80  \n",
       "1         3.701              4.52  \n",
       "2         1.173             23.50  \n",
       "3         0.972             29.50  \n",
       "4         1.014             34.80  "
      ]
     },
     "execution_count": 5,
     "metadata": {},
     "output_type": "execute_result"
    }
   ],
   "source": [
    "data.head()"
   ]
  },
  {
   "cell_type": "code",
   "execution_count": 6,
   "id": "c17530d8-6def-43df-bbca-0950bc9aa5c2",
   "metadata": {},
   "outputs": [],
   "source": [
    "#cout_total corresponding to the total cost of the loan from repayment and duration\n",
    "#benefits corresponding to the monthly profits made by the bank on the loan\n",
    "#We'll simplify the profit calculation here: profit = (C∗T)/24\n",
    "\n",
    "data['cout_total'] = data['remboursement']* data['duree']\n",
    "data['benefice'] = round((data['cout_total']*data['taux_interet']/100)/(24),2)\n"
   ]
  },
  {
   "cell_type": "code",
   "execution_count": 7,
   "id": "8c53dfda-8228-4cdd-8905-c15a24c4d5c5",
   "metadata": {},
   "outputs": [
    {
     "data": {
      "text/html": [
       "<div>\n",
       "<style scoped>\n",
       "    .dataframe tbody tr th:only-of-type {\n",
       "        vertical-align: middle;\n",
       "    }\n",
       "\n",
       "    .dataframe tbody tr th {\n",
       "        vertical-align: top;\n",
       "    }\n",
       "\n",
       "    .dataframe thead th {\n",
       "        text-align: right;\n",
       "    }\n",
       "</style>\n",
       "<table border=\"1\" class=\"dataframe\">\n",
       "  <thead>\n",
       "    <tr style=\"text-align: right;\">\n",
       "      <th></th>\n",
       "      <th>identifiant</th>\n",
       "      <th>ville</th>\n",
       "      <th>CP</th>\n",
       "      <th>revenu</th>\n",
       "      <th>remboursement</th>\n",
       "      <th>duree</th>\n",
       "      <th>type</th>\n",
       "      <th>taux_interet</th>\n",
       "      <th>taux_endettement</th>\n",
       "      <th>cout_total</th>\n",
       "      <th>benefice</th>\n",
       "    </tr>\n",
       "  </thead>\n",
       "  <tbody>\n",
       "    <tr>\n",
       "      <th>8</th>\n",
       "      <td>7</td>\n",
       "      <td>NICE</td>\n",
       "      <td>6000</td>\n",
       "      <td>5486.0</td>\n",
       "      <td>2956.95</td>\n",
       "      <td>300</td>\n",
       "      <td>immobilier</td>\n",
       "      <td>1.184</td>\n",
       "      <td>53.9</td>\n",
       "      <td>887085.0</td>\n",
       "      <td>437.63</td>\n",
       "    </tr>\n",
       "    <tr>\n",
       "      <th>23</th>\n",
       "      <td>22</td>\n",
       "      <td>NICE</td>\n",
       "      <td>6300</td>\n",
       "      <td>5838.0</td>\n",
       "      <td>3018.25</td>\n",
       "      <td>240</td>\n",
       "      <td>immobilier</td>\n",
       "      <td>1.229</td>\n",
       "      <td>51.7</td>\n",
       "      <td>724380.0</td>\n",
       "      <td>370.94</td>\n",
       "    </tr>\n",
       "    <tr>\n",
       "      <th>186</th>\n",
       "      <td>173</td>\n",
       "      <td>PARIS</td>\n",
       "      <td>75006</td>\n",
       "      <td>6784.0</td>\n",
       "      <td>3744.77</td>\n",
       "      <td>180</td>\n",
       "      <td>immobilier</td>\n",
       "      <td>1.248</td>\n",
       "      <td>55.2</td>\n",
       "      <td>674058.6</td>\n",
       "      <td>350.51</td>\n",
       "    </tr>\n",
       "    <tr>\n",
       "      <th>242</th>\n",
       "      <td>226</td>\n",
       "      <td>PARIS</td>\n",
       "      <td>75002</td>\n",
       "      <td>5098.0</td>\n",
       "      <td>2910.96</td>\n",
       "      <td>240</td>\n",
       "      <td>immobilier</td>\n",
       "      <td>1.140</td>\n",
       "      <td>57.1</td>\n",
       "      <td>698630.4</td>\n",
       "      <td>331.85</td>\n",
       "    </tr>\n",
       "    <tr>\n",
       "      <th>181</th>\n",
       "      <td>168</td>\n",
       "      <td>PARIS</td>\n",
       "      <td>75003</td>\n",
       "      <td>6366.0</td>\n",
       "      <td>2807.41</td>\n",
       "      <td>240</td>\n",
       "      <td>immobilier</td>\n",
       "      <td>1.176</td>\n",
       "      <td>44.1</td>\n",
       "      <td>673778.4</td>\n",
       "      <td>330.15</td>\n",
       "    </tr>\n",
       "  </tbody>\n",
       "</table>\n",
       "</div>"
      ],
      "text/plain": [
       "     identifiant  ville     CP  revenu  remboursement  duree        type  \\\n",
       "8              7   NICE   6000  5486.0        2956.95    300  immobilier   \n",
       "23            22   NICE   6300  5838.0        3018.25    240  immobilier   \n",
       "186          173  PARIS  75006  6784.0        3744.77    180  immobilier   \n",
       "242          226  PARIS  75002  5098.0        2910.96    240  immobilier   \n",
       "181          168  PARIS  75003  6366.0        2807.41    240  immobilier   \n",
       "\n",
       "     taux_interet  taux_endettement  cout_total  benefice  \n",
       "8           1.184              53.9    887085.0    437.63  \n",
       "23          1.229              51.7    724380.0    370.94  \n",
       "186         1.248              55.2    674058.6    350.51  \n",
       "242         1.140              57.1    698630.4    331.85  \n",
       "181         1.176              44.1    673778.4    330.15  "
      ]
     },
     "execution_count": 7,
     "metadata": {},
     "output_type": "execute_result"
    }
   ],
   "source": [
    "data.sort_values('benefice', ascending= False).head()"
   ]
  },
  {
   "cell_type": "markdown",
   "id": "f39bf794-204e-4e00-88c5-976f971b48f9",
   "metadata": {},
   "source": [
    "The following requests have been made by the head of our lending department:\n",
    "\n",
    "- The authorized debt ratio is 35%. Could you tell me how many people have exceeded this threshold?\n",
    "\n",
    "- Same question, but this time only for the Paris branch.\n",
    "\n",
    "- To facilitate the processing of future loan applications, could you add a risk variable that would enable us to easily identify risky customers?\n",
    "- \n",
    "- How many car loans have been granted? What is the average total cost of these loans?\n",
    "\n",
    "- What is the total monthly profit made by the Toulouse branch?aine ?"
   ]
  },
  {
   "cell_type": "code",
   "execution_count": 8,
   "id": "b383d842-5a67-4e4d-b0a2-f24736b9d4ad",
   "metadata": {},
   "outputs": [
    {
     "name": "stdout",
     "output_type": "stream",
     "text": [
      "The number of customers who have exceeded the threshold is: 58\n"
     ]
    }
   ],
   "source": [
    "#the number of people having exceeded this 35% threshold\n",
    "\n",
    "clients_risque = data.loc[data['taux_endettement']>35,:]\n",
    "print('The number of customers who have exceeded the threshold is:',clients_risque.shape[0])"
   ]
  },
  {
   "cell_type": "code",
   "execution_count": 9,
   "id": "d4da6e35-1167-438d-a19d-e3f7ec013c16",
   "metadata": {},
   "outputs": [
    {
     "name": "stdout",
     "output_type": "stream",
     "text": [
      "The number of Parisian customers exceeding the threshold is: 16\n"
     ]
    }
   ],
   "source": [
    "#For the Paris branch\n",
    "\n",
    "client_risque_Paris = data.loc[(data['taux_endettement']>35) & (data['ville']=='PARIS'),:]\n",
    "print('The number of Parisian customers exceeding the threshold is:',client_risque_Paris.shape[0])"
   ]
  },
  {
   "cell_type": "code",
   "execution_count": 10,
   "id": "c3159445-ae39-478c-84a6-15fc4eb1464e",
   "metadata": {},
   "outputs": [
    {
     "data": {
      "text/html": [
       "<div>\n",
       "<style scoped>\n",
       "    .dataframe tbody tr th:only-of-type {\n",
       "        vertical-align: middle;\n",
       "    }\n",
       "\n",
       "    .dataframe tbody tr th {\n",
       "        vertical-align: top;\n",
       "    }\n",
       "\n",
       "    .dataframe thead th {\n",
       "        text-align: right;\n",
       "    }\n",
       "</style>\n",
       "<table border=\"1\" class=\"dataframe\">\n",
       "  <thead>\n",
       "    <tr style=\"text-align: right;\">\n",
       "      <th></th>\n",
       "      <th>identifiant</th>\n",
       "      <th>ville</th>\n",
       "      <th>CP</th>\n",
       "      <th>revenu</th>\n",
       "      <th>remboursement</th>\n",
       "      <th>duree</th>\n",
       "      <th>type</th>\n",
       "      <th>taux_interet</th>\n",
       "      <th>taux_endettement</th>\n",
       "      <th>cout_total</th>\n",
       "      <th>benefice</th>\n",
       "      <th>risque</th>\n",
       "    </tr>\n",
       "  </thead>\n",
       "  <tbody>\n",
       "    <tr>\n",
       "      <th>61</th>\n",
       "      <td>60</td>\n",
       "      <td>MARSEILLE</td>\n",
       "      <td>13012</td>\n",
       "      <td>1201.0</td>\n",
       "      <td>688.17</td>\n",
       "      <td>240</td>\n",
       "      <td>immobilier</td>\n",
       "      <td>1.113</td>\n",
       "      <td>57.30</td>\n",
       "      <td>165160.8</td>\n",
       "      <td>76.59</td>\n",
       "      <td>OUI</td>\n",
       "    </tr>\n",
       "    <tr>\n",
       "      <th>242</th>\n",
       "      <td>226</td>\n",
       "      <td>PARIS</td>\n",
       "      <td>75002</td>\n",
       "      <td>5098.0</td>\n",
       "      <td>2910.96</td>\n",
       "      <td>240</td>\n",
       "      <td>immobilier</td>\n",
       "      <td>1.140</td>\n",
       "      <td>57.10</td>\n",
       "      <td>698630.4</td>\n",
       "      <td>331.85</td>\n",
       "      <td>OUI</td>\n",
       "    </tr>\n",
       "    <tr>\n",
       "      <th>138</th>\n",
       "      <td>130</td>\n",
       "      <td>MARSEILLE</td>\n",
       "      <td>13007</td>\n",
       "      <td>2631.0</td>\n",
       "      <td>1473.36</td>\n",
       "      <td>240</td>\n",
       "      <td>immobilier</td>\n",
       "      <td>1.086</td>\n",
       "      <td>56.00</td>\n",
       "      <td>353606.4</td>\n",
       "      <td>160.01</td>\n",
       "      <td>OUI</td>\n",
       "    </tr>\n",
       "    <tr>\n",
       "      <th>187</th>\n",
       "      <td>174</td>\n",
       "      <td>MARSEILLE</td>\n",
       "      <td>13009</td>\n",
       "      <td>1533.0</td>\n",
       "      <td>850.82</td>\n",
       "      <td>180</td>\n",
       "      <td>immobilier</td>\n",
       "      <td>1.048</td>\n",
       "      <td>55.50</td>\n",
       "      <td>153147.6</td>\n",
       "      <td>66.87</td>\n",
       "      <td>OUI</td>\n",
       "    </tr>\n",
       "    <tr>\n",
       "      <th>219</th>\n",
       "      <td>205</td>\n",
       "      <td>BORDEAUX</td>\n",
       "      <td>33100</td>\n",
       "      <td>2835.0</td>\n",
       "      <td>1567.76</td>\n",
       "      <td>180</td>\n",
       "      <td>immobilier</td>\n",
       "      <td>1.085</td>\n",
       "      <td>55.30</td>\n",
       "      <td>282196.8</td>\n",
       "      <td>127.58</td>\n",
       "      <td>OUI</td>\n",
       "    </tr>\n",
       "    <tr>\n",
       "      <th>...</th>\n",
       "      <td>...</td>\n",
       "      <td>...</td>\n",
       "      <td>...</td>\n",
       "      <td>...</td>\n",
       "      <td>...</td>\n",
       "      <td>...</td>\n",
       "      <td>...</td>\n",
       "      <td>...</td>\n",
       "      <td>...</td>\n",
       "      <td>...</td>\n",
       "      <td>...</td>\n",
       "      <td>...</td>\n",
       "    </tr>\n",
       "    <tr>\n",
       "      <th>100</th>\n",
       "      <td>95</td>\n",
       "      <td>PARIS</td>\n",
       "      <td>75016</td>\n",
       "      <td>6069.0</td>\n",
       "      <td>341.40</td>\n",
       "      <td>24</td>\n",
       "      <td>automobile</td>\n",
       "      <td>3.644</td>\n",
       "      <td>5.63</td>\n",
       "      <td>8193.6</td>\n",
       "      <td>12.44</td>\n",
       "      <td>Non</td>\n",
       "    </tr>\n",
       "    <tr>\n",
       "      <th>67</th>\n",
       "      <td>64</td>\n",
       "      <td>LYON</td>\n",
       "      <td>69004</td>\n",
       "      <td>4326.0</td>\n",
       "      <td>236.10</td>\n",
       "      <td>46</td>\n",
       "      <td>automobile</td>\n",
       "      <td>3.124</td>\n",
       "      <td>5.46</td>\n",
       "      <td>10860.6</td>\n",
       "      <td>14.14</td>\n",
       "      <td>Non</td>\n",
       "    </tr>\n",
       "    <tr>\n",
       "      <th>240</th>\n",
       "      <td>224</td>\n",
       "      <td>PARIS</td>\n",
       "      <td>75008</td>\n",
       "      <td>5118.0</td>\n",
       "      <td>238.20</td>\n",
       "      <td>25</td>\n",
       "      <td>automobile</td>\n",
       "      <td>3.423</td>\n",
       "      <td>4.65</td>\n",
       "      <td>5955.0</td>\n",
       "      <td>8.49</td>\n",
       "      <td>Non</td>\n",
       "    </tr>\n",
       "    <tr>\n",
       "      <th>106</th>\n",
       "      <td>101</td>\n",
       "      <td>LYON</td>\n",
       "      <td>69008</td>\n",
       "      <td>4737.0</td>\n",
       "      <td>214.80</td>\n",
       "      <td>47</td>\n",
       "      <td>automobile</td>\n",
       "      <td>3.487</td>\n",
       "      <td>4.53</td>\n",
       "      <td>10095.6</td>\n",
       "      <td>14.67</td>\n",
       "      <td>Non</td>\n",
       "    </tr>\n",
       "    <tr>\n",
       "      <th>1</th>\n",
       "      <td>1</td>\n",
       "      <td>PARIS</td>\n",
       "      <td>75009</td>\n",
       "      <td>5310.0</td>\n",
       "      <td>240.00</td>\n",
       "      <td>64</td>\n",
       "      <td>automobile</td>\n",
       "      <td>3.701</td>\n",
       "      <td>4.52</td>\n",
       "      <td>15360.0</td>\n",
       "      <td>23.69</td>\n",
       "      <td>Non</td>\n",
       "    </tr>\n",
       "  </tbody>\n",
       "</table>\n",
       "<p>244 rows × 12 columns</p>\n",
       "</div>"
      ],
      "text/plain": [
       "     identifiant      ville     CP  revenu  remboursement  duree        type  \\\n",
       "61            60  MARSEILLE  13012  1201.0         688.17    240  immobilier   \n",
       "242          226      PARIS  75002  5098.0        2910.96    240  immobilier   \n",
       "138          130  MARSEILLE  13007  2631.0        1473.36    240  immobilier   \n",
       "187          174  MARSEILLE  13009  1533.0         850.82    180  immobilier   \n",
       "219          205   BORDEAUX  33100  2835.0        1567.76    180  immobilier   \n",
       "..           ...        ...    ...     ...            ...    ...         ...   \n",
       "100           95      PARIS  75016  6069.0         341.40     24  automobile   \n",
       "67            64       LYON  69004  4326.0         236.10     46  automobile   \n",
       "240          224      PARIS  75008  5118.0         238.20     25  automobile   \n",
       "106          101       LYON  69008  4737.0         214.80     47  automobile   \n",
       "1              1      PARIS  75009  5310.0         240.00     64  automobile   \n",
       "\n",
       "     taux_interet  taux_endettement  cout_total  benefice risque  \n",
       "61          1.113             57.30    165160.8     76.59    OUI  \n",
       "242         1.140             57.10    698630.4    331.85    OUI  \n",
       "138         1.086             56.00    353606.4    160.01    OUI  \n",
       "187         1.048             55.50    153147.6     66.87    OUI  \n",
       "219         1.085             55.30    282196.8    127.58    OUI  \n",
       "..            ...               ...         ...       ...    ...  \n",
       "100         3.644              5.63      8193.6     12.44    Non  \n",
       "67          3.124              5.46     10860.6     14.14    Non  \n",
       "240         3.423              4.65      5955.0      8.49    Non  \n",
       "106         3.487              4.53     10095.6     14.67    Non  \n",
       "1           3.701              4.52     15360.0     23.69    Non  \n",
       "\n",
       "[244 rows x 12 columns]"
      ]
     },
     "execution_count": 10,
     "metadata": {},
     "output_type": "execute_result"
    }
   ],
   "source": [
    "#Creation of the risky column (debt ratio > 35%)\n",
    "data['risque']='Non'\n",
    "data.loc[data['taux_endettement']>35, 'risque']='OUI'\n",
    "data.sort_values('taux_endettement', ascending=False)"
   ]
  },
  {
   "cell_type": "code",
   "execution_count": 11,
   "id": "3ffe3da7-3e7a-4c4b-bdb3-c9f3413c1c58",
   "metadata": {},
   "outputs": [
    {
     "name": "stdout",
     "output_type": "stream",
     "text": [
      " the number of car loans granted is: 16  with an average cost of: 13665.0\n"
     ]
    }
   ],
   "source": [
    "#How many car loans have been granted? \n",
    "#What is the average total cost?\n",
    "prets_auto = data.loc[data['type']=='automobile',:]\n",
    "cout_total_moyen= round(data.loc[data['type']=='automobile','cout_total'].mean(),2)\n",
    "\n",
    "print(' the number of car loans granted is:',prets_auto.shape[0],' with an average cost of:',cout_total_moyen)\n"
   ]
  },
  {
   "cell_type": "code",
   "execution_count": 12,
   "id": "f4ffa61f-4571-47ff-aa0c-9950d5e844de",
   "metadata": {},
   "outputs": [
    {
     "name": "stdout",
     "output_type": "stream",
     "text": [
      "the Toulouse agency's total monthly profit is: 2138.07\n"
     ]
    }
   ],
   "source": [
    "# total monthly profit generated by the Toulouse agency\n",
    "benefice_toulouse = data.loc[data['ville']=='TOULOUSE', 'benefice'].sum()\n",
    "print('the Toulouse agency\\'s total monthly profit is:',round(benefice_toulouse,2))"
   ]
  },
  {
   "cell_type": "markdown",
   "id": "7ded3d50-faf7-4a9c-8df2-b26b4ca2e5e8",
   "metadata": {},
   "source": [
    "Hello,\n",
    "\n",
    "I have several requests that I'd like you to process as soon as you can. We'll need them for the board meeting this weekend. Could you :\n",
    "\n",
    "create a customer profile data frame to have all the information about each customer summarized in one line ;\n",
    "\n",
    "calculate the exact number of people in a risky banking situation, based on the debt ratio and these customer profiles ;\n",
    "\n",
    "calculate the total profit generated by each of our branches, by loan type ;\n",
    "\n",
    "calculate the average profit made by each branch, for each type of loan, in the form of a double-entry table ;\n",
    "\n",
    "tell me which city would be the most interesting to develop home loans in ? in advance."
   ]
  },
  {
   "cell_type": "code",
   "execution_count": 13,
   "id": "b4e4e1fa-3d71-4988-9859-5ea4f47f878c",
   "metadata": {},
   "outputs": [
    {
     "data": {
      "text/html": [
       "<div>\n",
       "<style scoped>\n",
       "    .dataframe tbody tr th:only-of-type {\n",
       "        vertical-align: middle;\n",
       "    }\n",
       "\n",
       "    .dataframe tbody tr th {\n",
       "        vertical-align: top;\n",
       "    }\n",
       "\n",
       "    .dataframe thead th {\n",
       "        text-align: right;\n",
       "    }\n",
       "</style>\n",
       "<table border=\"1\" class=\"dataframe\">\n",
       "  <thead>\n",
       "    <tr style=\"text-align: right;\">\n",
       "      <th></th>\n",
       "      <th>remboursement</th>\n",
       "      <th>taux_endettement</th>\n",
       "      <th>cout_total</th>\n",
       "      <th>benefice</th>\n",
       "    </tr>\n",
       "    <tr>\n",
       "      <th>identifiant</th>\n",
       "      <th></th>\n",
       "      <th></th>\n",
       "      <th></th>\n",
       "      <th></th>\n",
       "    </tr>\n",
       "  </thead>\n",
       "  <tbody>\n",
       "    <tr>\n",
       "      <th>0</th>\n",
       "      <td>1130.05</td>\n",
       "      <td>30.80</td>\n",
       "      <td>271212.0</td>\n",
       "      <td>131.99</td>\n",
       "    </tr>\n",
       "    <tr>\n",
       "      <th>1</th>\n",
       "      <td>1487.85</td>\n",
       "      <td>28.02</td>\n",
       "      <td>389715.0</td>\n",
       "      <td>206.66</td>\n",
       "    </tr>\n",
       "    <tr>\n",
       "      <th>2</th>\n",
       "      <td>552.54</td>\n",
       "      <td>29.50</td>\n",
       "      <td>132609.6</td>\n",
       "      <td>53.71</td>\n",
       "    </tr>\n",
       "    <tr>\n",
       "      <th>3</th>\n",
       "      <td>586.03</td>\n",
       "      <td>34.80</td>\n",
       "      <td>105485.4</td>\n",
       "      <td>44.57</td>\n",
       "    </tr>\n",
       "    <tr>\n",
       "      <th>4</th>\n",
       "      <td>423.61</td>\n",
       "      <td>28.70</td>\n",
       "      <td>101666.4</td>\n",
       "      <td>51.21</td>\n",
       "    </tr>\n",
       "  </tbody>\n",
       "</table>\n",
       "</div>"
      ],
      "text/plain": [
       "             remboursement  taux_endettement  cout_total  benefice\n",
       "identifiant                                                       \n",
       "0                  1130.05             30.80    271212.0    131.99\n",
       "1                  1487.85             28.02    389715.0    206.66\n",
       "2                   552.54             29.50    132609.6     53.71\n",
       "3                   586.03             34.80    105485.4     44.57\n",
       "4                   423.61             28.70    101666.4     51.21"
      ]
     },
     "execution_count": 13,
     "metadata": {},
     "output_type": "execute_result"
    }
   ],
   "source": [
    "#Profil client par somme (remboursement,taux_endettement,cout_total,benefice)\n",
    "profil_client=data.groupby('identifiant')[['remboursement','taux_endettement','cout_total','benefice']].sum()\n",
    "profil_client.reset_index()\n",
    "profil_client.head()"
   ]
  },
  {
   "cell_type": "code",
   "execution_count": 14,
   "id": "8d99caf8-7079-4b66-b930-e7bc06e20121",
   "metadata": {},
   "outputs": [
    {
     "name": "stdout",
     "output_type": "stream",
     "text": [
      " le nombre de personne en situation risque est : 62\n"
     ]
    }
   ],
   "source": [
    "#Recalculate the exact number of people in risky banking situations based on the debt ratio:\n",
    "personne_risque=profil_client.loc[profil_client['taux_endettement']>35,:]\n",
    "print(' le nombre de personne en situation risque est :',personne_risque.shape[0])"
   ]
  },
  {
   "cell_type": "code",
   "execution_count": 15,
   "id": "815268e2-decb-4cb1-a2c6-9a996f62e75c",
   "metadata": {},
   "outputs": [
    {
     "data": {
      "text/plain": [
       "ville      type      \n",
       "BORDEAUX   immobilier    1681.32\n",
       "LYON       automobile      47.39\n",
       "           immobilier    2967.41\n",
       "MARSEILLE  automobile      61.36\n",
       "           immobilier    4334.55\n",
       "NICE       automobile      31.15\n",
       "           immobilier    2651.60\n",
       "PARIS      automobile      99.50\n",
       "           immobilier    9916.85\n",
       "TOULOUSE   automobile      61.22\n",
       "           immobilier    2076.85\n",
       "Name: benefice, dtype: float64"
      ]
     },
     "execution_count": 15,
     "metadata": {},
     "output_type": "execute_result"
    }
   ],
   "source": [
    "#the profit generated by each of our branches, by type of loan\n",
    "profit= data.groupby(['ville','type'])['benefice'].sum()\n",
    "profit"
   ]
  },
  {
   "cell_type": "code",
   "execution_count": 16,
   "id": "fd62a62c-63c2-4087-a017-0ffea5ec4ec6",
   "metadata": {},
   "outputs": [
    {
     "name": "stderr",
     "output_type": "stream",
     "text": [
      "C:\\Users\\hp\\AppData\\Local\\Temp\\ipykernel_10100\\1137666163.py:2: FutureWarning: The provided callable <function mean at 0x0000018B58309440> is currently using DataFrameGroupBy.mean. In a future version of pandas, the provided callable will be used directly. To keep current behavior pass the string \"mean\" instead.\n",
      "  profit_agence_type = data.pivot_table(index='ville',columns='type',values='benefice',aggfunc=np.mean)\n"
     ]
    },
    {
     "data": {
      "text/html": [
       "<div>\n",
       "<style scoped>\n",
       "    .dataframe tbody tr th:only-of-type {\n",
       "        vertical-align: middle;\n",
       "    }\n",
       "\n",
       "    .dataframe tbody tr th {\n",
       "        vertical-align: top;\n",
       "    }\n",
       "\n",
       "    .dataframe thead th {\n",
       "        text-align: right;\n",
       "    }\n",
       "</style>\n",
       "<table border=\"1\" class=\"dataframe\">\n",
       "  <thead>\n",
       "    <tr style=\"text-align: right;\">\n",
       "      <th>type</th>\n",
       "      <th>automobile</th>\n",
       "      <th>immobilier</th>\n",
       "    </tr>\n",
       "    <tr>\n",
       "      <th>ville</th>\n",
       "      <th></th>\n",
       "      <th></th>\n",
       "    </tr>\n",
       "  </thead>\n",
       "  <tbody>\n",
       "    <tr>\n",
       "      <th>BORDEAUX</th>\n",
       "      <td>NaN</td>\n",
       "      <td>105.082500</td>\n",
       "    </tr>\n",
       "    <tr>\n",
       "      <th>LYON</th>\n",
       "      <td>15.796667</td>\n",
       "      <td>118.696400</td>\n",
       "    </tr>\n",
       "    <tr>\n",
       "      <th>MARSEILLE</th>\n",
       "      <td>20.453333</td>\n",
       "      <td>60.202083</td>\n",
       "    </tr>\n",
       "    <tr>\n",
       "      <th>NICE</th>\n",
       "      <td>15.575000</td>\n",
       "      <td>139.557895</td>\n",
       "    </tr>\n",
       "    <tr>\n",
       "      <th>PARIS</th>\n",
       "      <td>19.900000</td>\n",
       "      <td>137.734028</td>\n",
       "    </tr>\n",
       "    <tr>\n",
       "      <th>TOULOUSE</th>\n",
       "      <td>20.406667</td>\n",
       "      <td>86.535417</td>\n",
       "    </tr>\n",
       "  </tbody>\n",
       "</table>\n",
       "</div>"
      ],
      "text/plain": [
       "type       automobile  immobilier\n",
       "ville                            \n",
       "BORDEAUX          NaN  105.082500\n",
       "LYON        15.796667  118.696400\n",
       "MARSEILLE   20.453333   60.202083\n",
       "NICE        15.575000  139.557895\n",
       "PARIS       19.900000  137.734028\n",
       "TOULOUSE    20.406667   86.535417"
      ]
     },
     "execution_count": 16,
     "metadata": {},
     "output_type": "execute_result"
    }
   ],
   "source": [
    "#average profits achieved by each agency, for each type of loan\n",
    "profit_agence_type = data.pivot_table(index='ville',columns='type',values='benefice',aggfunc=np.mean)\n",
    "profit_agence_type"
   ]
  },
  {
   "cell_type": "code",
   "execution_count": 17,
   "id": "3845ef40-61d6-4555-964d-ca653a92945d",
   "metadata": {},
   "outputs": [
    {
     "data": {
      "text/html": [
       "<div>\n",
       "<style scoped>\n",
       "    .dataframe tbody tr th:only-of-type {\n",
       "        vertical-align: middle;\n",
       "    }\n",
       "\n",
       "    .dataframe tbody tr th {\n",
       "        vertical-align: top;\n",
       "    }\n",
       "\n",
       "    .dataframe thead th {\n",
       "        text-align: right;\n",
       "    }\n",
       "</style>\n",
       "<table border=\"1\" class=\"dataframe\">\n",
       "  <thead>\n",
       "    <tr style=\"text-align: right;\">\n",
       "      <th>type</th>\n",
       "      <th>ville</th>\n",
       "      <th>automobile</th>\n",
       "      <th>immobilier</th>\n",
       "    </tr>\n",
       "  </thead>\n",
       "  <tbody>\n",
       "    <tr>\n",
       "      <th>3</th>\n",
       "      <td>NICE</td>\n",
       "      <td>15.575000</td>\n",
       "      <td>139.557895</td>\n",
       "    </tr>\n",
       "    <tr>\n",
       "      <th>4</th>\n",
       "      <td>PARIS</td>\n",
       "      <td>19.900000</td>\n",
       "      <td>137.734028</td>\n",
       "    </tr>\n",
       "    <tr>\n",
       "      <th>1</th>\n",
       "      <td>LYON</td>\n",
       "      <td>15.796667</td>\n",
       "      <td>118.696400</td>\n",
       "    </tr>\n",
       "    <tr>\n",
       "      <th>0</th>\n",
       "      <td>BORDEAUX</td>\n",
       "      <td>NaN</td>\n",
       "      <td>105.082500</td>\n",
       "    </tr>\n",
       "    <tr>\n",
       "      <th>5</th>\n",
       "      <td>TOULOUSE</td>\n",
       "      <td>20.406667</td>\n",
       "      <td>86.535417</td>\n",
       "    </tr>\n",
       "    <tr>\n",
       "      <th>2</th>\n",
       "      <td>MARSEILLE</td>\n",
       "      <td>20.453333</td>\n",
       "      <td>60.202083</td>\n",
       "    </tr>\n",
       "  </tbody>\n",
       "</table>\n",
       "</div>"
      ],
      "text/plain": [
       "type      ville  automobile  immobilier\n",
       "3          NICE   15.575000  139.557895\n",
       "4         PARIS   19.900000  137.734028\n",
       "1          LYON   15.796667  118.696400\n",
       "0      BORDEAUX         NaN  105.082500\n",
       "5      TOULOUSE   20.406667   86.535417\n",
       "2     MARSEILLE   20.453333   60.202083"
      ]
     },
     "execution_count": 17,
     "metadata": {},
     "output_type": "execute_result"
    }
   ],
   "source": [
    "# the most attractive city in which to develop real estate loans\n",
    "mac = profit_agence_type.reset_index()\n",
    "mac.sort_values('immobilier', ascending=False)\n",
    "\n"
   ]
  },
  {
   "cell_type": "code",
   "execution_count": 18,
   "id": "33af115c-b012-4769-982a-9246f95e9d29",
   "metadata": {},
   "outputs": [
    {
     "name": "stdout",
     "output_type": "stream",
     "text": [
      "the most interesting city in terms of mortgages is: NICE\n"
     ]
    }
   ],
   "source": [
    "print('the most interesting city in terms of mortgages is: NICE')"
   ]
  },
  {
   "cell_type": "markdown",
   "id": "279e015b-43e1-47da-b736-7e713e1b66db",
   "metadata": {},
   "source": [
    "                                                                    Draw graphs \n",
    "                                                                    \n",
    "You are in the process of preparing the monthly report to be presented to your manager at the end of each month. The presentation will need to include some key graphs, so you'll need to use your data visualization skills to produce the various visualizations expected.\n",
    "\n",
    "The graphs to be produced are\n",
    "\n",
    "- proportion of loans by type of loan\n",
    "  \n",
    "- Monthly profit as a function of customer income for real estate loans only\n",
    "\n",
    "- Distribution of realized profits\n",
    "\n",
    "- Total monthly profit per branch"
   ]
  },
  {
   "cell_type": "code",
   "execution_count": 23,
   "id": "80a49041-6acc-4a46-a028-24002df7833b",
   "metadata": {},
   "outputs": [
    {
     "data": {
      "text/html": [
       "<div>\n",
       "<style scoped>\n",
       "    .dataframe tbody tr th:only-of-type {\n",
       "        vertical-align: middle;\n",
       "    }\n",
       "\n",
       "    .dataframe tbody tr th {\n",
       "        vertical-align: top;\n",
       "    }\n",
       "\n",
       "    .dataframe thead th {\n",
       "        text-align: right;\n",
       "    }\n",
       "</style>\n",
       "<table border=\"1\" class=\"dataframe\">\n",
       "  <thead>\n",
       "    <tr style=\"text-align: right;\">\n",
       "      <th></th>\n",
       "      <th>Type</th>\n",
       "      <th>Number</th>\n",
       "    </tr>\n",
       "  </thead>\n",
       "  <tbody>\n",
       "    <tr>\n",
       "      <th>0</th>\n",
       "      <td>automobile</td>\n",
       "      <td>16</td>\n",
       "    </tr>\n",
       "    <tr>\n",
       "      <th>1</th>\n",
       "      <td>immobilier</td>\n",
       "      <td>228</td>\n",
       "    </tr>\n",
       "  </tbody>\n",
       "</table>\n",
       "</div>"
      ],
      "text/plain": [
       "         Type  Number\n",
       "0  automobile      16\n",
       "1  immobilier     228"
      ]
     },
     "execution_count": 23,
     "metadata": {},
     "output_type": "execute_result"
    }
   ],
   "source": [
    "#proportion of loans by type of loan\n",
    "proportion = data.groupby('type').size().reset_index()\n",
    "proportion.columns=['Type','Number']\n",
    "proportion"
   ]
  },
  {
   "cell_type": "code",
   "execution_count": 24,
   "id": "4554eb9c-f5d7-4d7c-92fd-7512a900adb0",
   "metadata": {},
   "outputs": [
    {
     "data": {
      "text/plain": [
       "<BarContainer object of 2 artists>"
      ]
     },
     "execution_count": 24,
     "metadata": {},
     "output_type": "execute_result"
    },
    {
     "data": {
      "image/png": "[encoded data removed]",
      "text/plain": [
       "<Figure size 640x480 with 1 Axes>"
      ]
     },
     "metadata": {},
     "output_type": "display_data"
    }
   ],
   "source": [
    "import matplotlib.pyplot as plt\n",
    "plt.bar(height=proportion['Number'],x=proportion['Type'])"
   ]
  },
  {
   "cell_type": "code",
   "execution_count": 27,
   "id": "6249c75b-d5ea-45aa-a14d-c55e348fe0dc",
   "metadata": {},
   "outputs": [
    {
     "data": {
      "text/plain": [
       "<matplotlib.collections.PathCollection at 0x18b60561490>"
      ]
     },
     "execution_count": 27,
     "metadata": {},
     "output_type": "execute_result"
    },
    {
     "data": {
      "image/png": "[encoded data removed]",
      "text/plain": [
       "<Figure size 640x480 with 1 Axes>"
      ]
     },
     "metadata": {},
     "output_type": "display_data"
    }
   ],
   "source": [
    "# Monthly profit as a function of customer income for real estate loans only\n",
    "profit_mor = data.loc[data['type']=='immobilier',:]\n",
    "plt.scatter(profit_mor['revenu'],profit_mor['benefice'])"
   ]
  },
  {
   "cell_type": "code",
   "execution_count": 28,
   "id": "c2bf6e52-6db7-4db8-9377-9c771dfea614",
   "metadata": {},
   "outputs": [
    {
     "data": {
      "text/plain": [
       "(array([63., 77., 57., 20., 12.,  7.,  2.,  4.,  1.,  1.]),\n",
       " array([  8.49 ,  51.404,  94.318, 137.232, 180.146, 223.06 , 265.974,\n",
       "        308.888, 351.802, 394.716, 437.63 ]),\n",
       " <BarContainer object of 10 artists>)"
      ]
     },
     "execution_count": 28,
     "metadata": {},
     "output_type": "execute_result"
    },
    {
     "data": {
      "image/png": "[encoded data removed]",
      "text/plain": [
       "<Figure size 640x480 with 1 Axes>"
      ]
     },
     "metadata": {},
     "output_type": "display_data"
    }
   ],
   "source": [
    "#Distribution of realized profits\n",
    "plt.hist(data['benefice'])\n"
   ]
  },
  {
   "cell_type": "code",
   "execution_count": 30,
   "id": "3286a8a4-3f47-4389-a9ff-644d86c4df2f",
   "metadata": {},
   "outputs": [
    {
     "data": {
      "text/plain": [
       "<BarContainer object of 6 artists>"
      ]
     },
     "execution_count": 30,
     "metadata": {},
     "output_type": "execute_result"
    },
    {
     "data": {
      "image/png": "[encoded data removed]",
      "text/plain": [
       "<Figure size 640x480 with 1 Axes>"
      ]
     },
     "metadata": {},
     "output_type": "display_data"
    }
   ],
   "source": [
    "#Total monthly profit per branch\n",
    "profit= data.groupby('ville')['benefice'].sum().reset_index().sort_values('benefice', ascending=False)\n",
    "plt.bar(height=profit['benefice'],x=profit['ville'])"
   ]
  },
  {
   "cell_type": "code",
   "execution_count": null,
   "id": "1c7ea027-4501-4a4d-b6b2-d9a8f65e8b40",
   "metadata": {},
   "outputs": [],
   "source": []
  },
  {
   "cell_type": "code",
   "execution_count": null,
   "id": "a712d605-2407-4351-b37d-09631bdd6e9d",
   "metadata": {},
   "outputs": [],
   "source": []
  },
  {
   "cell_type": "code",
   "execution_count": null,
   "id": "1c0c0ad5-d4d3-4b12-a048-24cfdb1d34a7",
   "metadata": {},
   "outputs": [],
   "source": []
  },
  {
   "cell_type": "code",
   "execution_count": null,
   "id": "b4c1506e-8f1b-46ae-a6f9-6eb19f39f0cd",
   "metadata": {},
   "outputs": [],
   "source": []
  },
  {
   "cell_type": "code",
   "execution_count": null,
   "id": "c4f961fe-ce24-4807-878d-340e3b559f7c",
   "metadata": {},
   "outputs": [],
   "source": []
  },
  {
   "cell_type": "code",
   "execution_count": null,
   "id": "71c33830-7f4c-43f1-9197-f838a80f16b8",
   "metadata": {},
   "outputs": [],
   "source": []
  },
  {
   "cell_type": "code",
   "execution_count": null,
   "id": "d207d834-9449-46b7-aa46-e8ecb128d370",
   "metadata": {},
   "outputs": [],
   "source": []
  },
  {
   "cell_type": "code",
   "execution_count": null,
   "id": "acd302b0-fe8f-4d9c-be67-bd736c77a3c9",
   "metadata": {},
   "outputs": [],
   "source": []
  },
  {
   "cell_type": "code",
   "execution_count": null,
   "id": "88382217-7339-4935-9a66-f905d4278990",
   "metadata": {},
   "outputs": [],
   "source": []
  },
  {
   "cell_type": "code",
   "execution_count": null,
   "id": "2017926e-f232-4681-a0d9-672a5c991f55",
   "metadata": {},
   "outputs": [],
   "source": []
  },
  {
   "cell_type": "code",
   "execution_count": null,
   "id": "7596d89c-7b77-4b51-b052-b08dacd4ddc4",
   "metadata": {},
   "outputs": [],
   "source": []
  },
  {
   "cell_type": "code",
   "execution_count": null,
   "id": "a2874aac-98f2-42aa-b327-ba7ee1b2dc2e",
   "metadata": {},
   "outputs": [],
   "source": []
  },
  {
   "cell_type": "code",
   "execution_count": null,
   "id": "7ac420bb-0bec-4bda-8b39-f8b23b5e2145",
   "metadata": {},
   "outputs": [],
   "source": []
  },
  {
   "cell_type": "code",
   "execution_count": null,
   "id": "fb44a1b6-7be1-409b-8ed8-ab377d117a78",
   "metadata": {},
   "outputs": [],
   "source": []
  },
  {
   "cell_type": "code",
   "execution_count": null,
   "id": "b696d41d-73b0-4138-8d64-45b53bdeed63",
   "metadata": {},
   "outputs": [],
   "source": []
  },
  {
   "cell_type": "code",
   "execution_count": null,
   "id": "5a4afd81-8a41-4243-89b1-2582958c83cd",
   "metadata": {},
   "outputs": [],
   "source": []
  }
 ],
 "metadata": {
  "kernelspec": {
   "display_name": "Python 3 (ipykernel)",
   "language": "python",
   "name": "python3"
  },
  "language_info": {
   "codemirror_mode": {
    "name": "ipython",
    "version": 3
   },
   "file_extension": ".py",
   "mimetype": "text/x-python",
   "name": "python",
   "nbconvert_exporter": "python",
   "pygments_lexer": "ipython3",
   "version": "3.11.7"
  }
 },
 "nbformat": 4,
 "nbformat_minor": 5
}
